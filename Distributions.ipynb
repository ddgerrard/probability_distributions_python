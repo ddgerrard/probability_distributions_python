{
 "cells": [
  {
   "cell_type": "markdown",
   "metadata": {},
   "source": [
    "# Statistical Distributions"
   ]
  },
  {
   "cell_type": "markdown",
   "metadata": {},
   "source": [
    "Dustin Gerrard\n",
    "<br>\n",
    "September-December 2018"
   ]
  },
  {
   "cell_type": "markdown",
   "metadata": {},
   "source": [
    "This is a comprehensive chart showing statistical distributions and their relationship to one another. It includes continuous and discrete distributions and provides explanations of each of them. Not all continuous distributions are included on the chart  but there is a list mentioning those not included.\n",
    "http://www.math.wm.edu/~leemis/chart/UDR/UDR.html\n",
    "\n"
   ]
  },
  {
   "cell_type": "markdown",
   "metadata": {},
   "source": [
    " "
   ]
  },
  {
   "cell_type": "markdown",
   "metadata": {},
   "source": [
    "<b> scipy.stats </b> is also a great resource for using various distributions. The files contained in this folder provide several examples of applications using scipy.\n",
    "\n",
    "Normal Distribution: https://docs.scipy.org/doc/scipy/reference/generated/scipy.stats.norm.html\n",
    "\n",
    "Log-Normal Distribution: https://docs.scipy.org/doc/scipy/reference/generated/scipy.stats.lognorm.html\n",
    "\n",
    "Exponential Distribution: https://docs.scipy.org/doc/scipy/reference/generated/scipy.stats.expon.html\n",
    "\n",
    "Chi Distribution: https://docs.scipy.org/doc/scipy-0.15.1/reference/generated/scipy.stats.chi2.html\n",
    "\n",
    "Chi Squared Distribution: https://docs.scipy.org/doc/scipy-0.15.1/reference/generated/scipy.stats.chi2.html\n",
    "\n",
    "Gamma Distribution: https://docs.scipy.org/doc/scipy/reference/generated/scipy.stats.gamma.html\n",
    "\n",
    "Logistic Distribution: https://docs.scipy.org/doc/scipy/reference/generated/scipy.stats.logistic.html\n",
    "\n",
    "Rayleigh Distribution: https://docs.scipy.org/doc/scipy/reference/generated/scipy.stats.rayleigh.html\n",
    "\n",
    "Weibull Distribution: https://docs.scipy.org/doc/scipy-0.19.0/reference/generated/scipy.stats.exponweib.html\n"
   ]
  },
  {
   "cell_type": "code",
   "execution_count": null,
   "metadata": {},
   "outputs": [],
   "source": []
  }
 ],
 "metadata": {
  "kernelspec": {
   "display_name": "Python 3",
   "language": "python",
   "name": "python3"
  },
  "language_info": {
   "codemirror_mode": {
    "name": "ipython",
    "version": 3
   },
   "file_extension": ".py",
   "mimetype": "text/x-python",
   "name": "python",
   "nbconvert_exporter": "python",
   "pygments_lexer": "ipython3",
   "version": "3.6.5"
  }
 },
 "nbformat": 4,
 "nbformat_minor": 2
}
